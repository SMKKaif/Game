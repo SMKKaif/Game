{
  "nbformat": 4,
  "nbformat_minor": 0,
  "metadata": {
    "colab": {
      "provenance": [],
      "authorship_tag": "ABX9TyOP4w/k17oQUBguyDuDoiGV",
      "include_colab_link": true
    },
    "kernelspec": {
      "name": "python3",
      "display_name": "Python 3"
    },
    "language_info": {
      "name": "python"
    }
  },
  "cells": [
    {
      "cell_type": "markdown",
      "metadata": {
        "id": "view-in-github",
        "colab_type": "text"
      },
      "source": [
        "<a href=\"https://colab.research.google.com/github/SMKKaif/Game/blob/main/ccassignment.ipynb\" target=\"_parent\"><img src=\"https://colab.research.google.com/assets/colab-badge.svg\" alt=\"Open In Colab\"/></a>"
      ]
    },
    {
      "cell_type": "code",
      "source": [
        "import random\n",
        "\n",
        "def play_game():\n",
        "    user_choice = input(\"Enter 'rock', 'paper', or 'scissors': \")\n",
        "    choices = ['rock', 'paper', 'scissors']\n",
        "    computer_choice = random.choice(choices)\n",
        "\n",
        "    print(f\"Computer chose {computer_choice}\")\n",
        "\n",
        "    if user_choice == computer_choice:\n",
        "        print(\"It's a tie!\")\n",
        "    elif (\n",
        "        (user_choice == 'rock' and computer_choice == 'scissors') or\n",
        "        (user_choice == 'paper' and computer_choice == 'rock') or\n",
        "        (user_choice == 'scissors' and computer_choice == 'paper')\n",
        "    ):\n",
        "        print(\"You win!\")\n",
        "    else:\n",
        "        print(\"Computer wins!\")\n",
        "\n",
        "play_game()"
      ],
      "metadata": {
        "colab": {
          "base_uri": "https://localhost:8080/"
        },
        "id": "ag4FRDByQMF8",
        "outputId": "69e4e521-b45f-44da-9447-5bb366f85ea3"
      },
      "execution_count": null,
      "outputs": [
        {
          "output_type": "stream",
          "name": "stdout",
          "text": [
            "Enter 'rock', 'paper', or 'scissors': rock\n",
            "Computer chose rock\n",
            "It's a tie!\n"
          ]
        }
      ]
    }
  ]
}